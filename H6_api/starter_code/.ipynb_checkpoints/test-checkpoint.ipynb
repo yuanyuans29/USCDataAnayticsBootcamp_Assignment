{
 "cells": [
  {
   "cell_type": "markdown",
   "metadata": {},
   "source": [
    "from citipy import citipy"
   ]
  },
  {
   "cell_type": "markdown",
   "metadata": {},
   "source": [
    "city = citipy.nearest_city(36.7,105.20)"
   ]
  },
  {
   "cell_type": "markdown",
   "metadata": {},
   "source": [
    "city.city_name"
   ]
  },
  {
   "cell_type": "markdown",
   "metadata": {},
   "source": [
    "city.country_code"
   ]
  },
  {
   "cell_type": "code",
   "execution_count": 10,
   "metadata": {},
   "outputs": [],
   "source": [
    "# Dependencies and Setup\n",
    "import matplotlib.pyplot as plt\n",
    "import pandas as pd\n",
    "import numpy as np\n",
    "import requests\n",
    "import time\n",
    "\n",
    "# Import API key\n",
    "from api_keys import api_key\n",
    "\n",
    "# Incorporated citipy to determine city based on latitude and longitude\n",
    "from citipy import citipy\n",
    "\n",
    "# Output File (CSV)\n",
    "output_data_file = \"output_data/cities.csv\"\n",
    "\n",
    "# Range of latitudes and longitudes\n",
    "lat_range = (-90, 90)\n",
    "lng_range = (-180, 180)"
   ]
  },
  {
   "cell_type": "code",
   "execution_count": 11,
   "metadata": {},
   "outputs": [],
   "source": [
    "# List for holding lat_lngs and cities\n",
    "#lat_lngs = []\n",
    "#cities = []\n",
    "\n",
    "# Create a set of random lat and lng combinations\n",
    "#lats = np.random.uniform(low=-90.000, high=90.000, size=1500)\n",
    "#lngs = np.random.uniform(low=-180.000, high=180.000, size=1500)\n",
    "#lat_lngs = zip(lats, lngs)\n",
    "\n",
    "# Identify nearest city for each lat, lng combination\n",
    "#for lat_lng in lat_lngs:\n",
    "#    city = citipy.nearest_city(lat_lng[0], lat_lng[1]).city_name\n",
    "    \n",
    "    # If the city is unique, then add it to a our cities list\n",
    "#    if city not in cities:\n",
    " #       cities.append(city)\n",
    "\n",
    "# Print the city count to confirm sufficient count\n",
    "#len(cities)"
   ]
  },
  {
   "cell_type": "code",
   "execution_count": 12,
   "metadata": {},
   "outputs": [],
   "source": [
    "import requests"
   ]
  },
  {
   "cell_type": "code",
   "execution_count": 13,
   "metadata": {},
   "outputs": [],
   "source": [
    "base_url = \"http://api.openweathermap.org/data/2.5/weather?\""
   ]
  },
  {
   "cell_type": "code",
   "execution_count": 37,
   "metadata": {
    "scrolled": true
   },
   "outputs": [
    {
     "name": "stdout",
     "output_type": "stream",
     "text": [
      "Beginning Data Retrieval\n",
      "-----------------------------\n",
      "Processing Record 1 of Set 1 | london\n",
      "Processing Record 1 of Set 1 | chengdu\n",
      "City not found. Skipping...\n",
      "-----------------------------\n",
      "Data Retrieval Complete\n",
      "-----------------------------\n"
     ]
    }
   ],
   "source": [
    "cities =[\"london\",\"chengdu\",\"txt\"]\n",
    "\n",
    "print(\"Beginning Data Retrieval\")\n",
    "print(\"-----------------------------\")\n",
    "info_list = []\n",
    "for city in cities:\n",
    "    city_url = f\"{base_url}q={city}&appid={api_key}\"\n",
    "    response = requests.get(city_url)\n",
    "    city_dict = response.json()\n",
    "    info_list.append(city_dict)\n",
    "    if city_dict[\"cod\"] == 200:\n",
    "        print(f\"Processing Record 1 of Set 1 | {city}\")n\n",
    "    else:\n",
    "        print(f\"City not found. Skipping...\")\n",
    "print(\"-----------------------------\")\n",
    "print(\"Data Retrieval Complete\")      \n",
    "print(\"-----------------------------\")\n"
   ]
  },
  {
   "cell_type": "code",
   "execution_count": 38,
   "metadata": {},
   "outputs": [
    {
     "name": "stdout",
     "output_type": "stream",
     "text": [
      "[{'coord': {'lon': -0.13, 'lat': 51.51}, 'weather': [{'id': 741, 'main': 'Fog', 'description': 'fog', 'icon': '50n'}], 'base': 'stations', 'main': {'temp': 279.9, 'pressure': 1034, 'humidity': 100, 'temp_min': 279.15, 'temp_max': 280.15}, 'visibility': 150, 'wind': {'speed': 3.1, 'deg': 90}, 'clouds': {'all': 90}, 'dt': 1550899200, 'sys': {'type': 1, 'id': 1414, 'message': 0.0032, 'country': 'GB', 'sunrise': 1550905118, 'sunset': 1550942997}, 'id': 2643743, 'name': 'London', 'cod': 200}, {'coord': {'lon': 104.06, 'lat': 30.68}, 'weather': [{'id': 721, 'main': 'Haze', 'description': 'haze', 'icon': '50d'}], 'base': 'stations', 'main': {'temp': 285.15, 'pressure': 1021, 'humidity': 71, 'temp_min': 285.15, 'temp_max': 285.15}, 'visibility': 3000, 'wind': {'speed': 2, 'deg': 20}, 'clouds': {'all': 56}, 'dt': 1550898000, 'sys': {'type': 1, 'id': 9674, 'message': 0.0032, 'country': 'CN', 'sunrise': 1550878624, 'sunset': 1550919458}, 'id': 1815286, 'name': 'Chengdu', 'cod': 200}]\n"
     ]
    }
   ],
   "source": [
    "info_list = [dict for dict in info_list if dict[\"cod\"] == 200]\n",
    "print(info_list)"
   ]
  },
  {
   "cell_type": "code",
   "execution_count": 45,
   "metadata": {},
   "outputs": [
    {
     "data": {
      "text/html": [
       "<div>\n",
       "<style scoped>\n",
       "    .dataframe tbody tr th:only-of-type {\n",
       "        vertical-align: middle;\n",
       "    }\n",
       "\n",
       "    .dataframe tbody tr th {\n",
       "        vertical-align: top;\n",
       "    }\n",
       "\n",
       "    .dataframe thead th {\n",
       "        text-align: right;\n",
       "    }\n",
       "</style>\n",
       "<table border=\"1\" class=\"dataframe\">\n",
       "  <thead>\n",
       "    <tr style=\"text-align: right;\">\n",
       "      <th></th>\n",
       "      <th>city</th>\n",
       "      <th>cloudiness</th>\n",
       "      <th>date</th>\n",
       "      <th>humidity</th>\n",
       "      <th>lat</th>\n",
       "      <th>lon</th>\n",
       "      <th>temperature</th>\n",
       "      <th>windspeed</th>\n",
       "    </tr>\n",
       "  </thead>\n",
       "  <tbody>\n",
       "    <tr>\n",
       "      <th>0</th>\n",
       "      <td>London</td>\n",
       "      <td>90</td>\n",
       "      <td>1550899200</td>\n",
       "      <td>100</td>\n",
       "      <td>51.51</td>\n",
       "      <td>-0.13</td>\n",
       "      <td>280.15</td>\n",
       "      <td>3.1</td>\n",
       "    </tr>\n",
       "    <tr>\n",
       "      <th>1</th>\n",
       "      <td>Chengdu</td>\n",
       "      <td>56</td>\n",
       "      <td>1550898000</td>\n",
       "      <td>71</td>\n",
       "      <td>30.68</td>\n",
       "      <td>104.06</td>\n",
       "      <td>285.15</td>\n",
       "      <td>2</td>\n",
       "    </tr>\n",
       "  </tbody>\n",
       "</table>\n",
       "</div>"
      ],
      "text/plain": [
       "      city cloudiness        date humidity    lat     lon temperature  \\\n",
       "0   London         90  1550899200      100  51.51   -0.13      280.15   \n",
       "1  Chengdu         56  1550898000       71  30.68  104.06      285.15   \n",
       "\n",
       "  windspeed  \n",
       "0       3.1  \n",
       "1         2  "
      ]
     },
     "execution_count": 45,
     "metadata": {},
     "output_type": "execute_result"
    }
   ],
   "source": [
    "city = []\n",
    "cloudiness=[]\n",
    "date =[]\n",
    "humidity =[]\n",
    "lat =[]\n",
    "lon =[]\n",
    "temperature = []\n",
    "windspeed = []\n",
    "\n",
    "for element in info_list:\n",
    "    n = element[\"name\"]\n",
    "    c = element[\"clouds\"][\"all\"]\n",
    "    d = element[\"dt\"]\n",
    "    h = element[\"main\"][\"humidity\"]\n",
    "    la = element[\"coord\"][\"lat\"]\n",
    "    ln = element[\"coord\"][\"lon\"]\n",
    "    t = element[\"main\"][\"temp_max\"]\n",
    "    s = element[\"wind\"][\"speed\"]\n",
    "    \n",
    "    city.append(n)\n",
    "    cloudiness.append(c)\n",
    "    date.append(d)\n",
    "    humidity.append(h)\n",
    "    lat.append(la)\n",
    "    lon.append(ln)\n",
    "    temperature.append(t)\n",
    "    windspeed.append(s)\n",
    "    \n",
    "weather_list = [city,cloudiness,date,humidity,lat,lon,temperature,windspeed]\n",
    "\n",
    "weather_df = pd.DataFrame(weather_list)\n",
    "weather_df = weather_df.transpose()\n",
    "weather_df.columns = [\"city\", \"cloudiness\", \"date\", \"humidity\",\"lat\",\"lon\",\"temperature\",\"windspeed\"]\n",
    "\n",
    "weather_df.head()"
   ]
  },
  {
   "cell_type": "code",
   "execution_count": null,
   "metadata": {},
   "outputs": [],
   "source": []
  }
 ],
 "metadata": {
  "kernelspec": {
   "display_name": "Python 3",
   "language": "python",
   "name": "python3"
  },
  "language_info": {
   "codemirror_mode": {
    "name": "ipython",
    "version": 3
   },
   "file_extension": ".py",
   "mimetype": "text/x-python",
   "name": "python",
   "nbconvert_exporter": "python",
   "pygments_lexer": "ipython3",
   "version": "3.6.7"
  }
 },
 "nbformat": 4,
 "nbformat_minor": 2
}
